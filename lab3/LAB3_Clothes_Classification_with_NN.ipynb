{
 "cells": [
  {
   "cell_type": "markdown",
   "metadata": {},
   "source": [
    "# Clothes Classification with Neural Networks\n",
    "\n",
    "In this notebook we are going to use the Neural Networks for image classification. We are going to use the same dataset of Lab 2 on SVM: Fashion MNIST (https://pravarmahajan.github.io/fashion/), a dataset of small images of clothes and accessories.\n",
    "\n",
    "The dataset labels are the following:\n",
    "\n",
    "| Label | Description |\n",
    "| --- | --- |\n",
    "| 0 | T-shirt/top |\n",
    "| 1 | Trouser |\n",
    "| 2 | Pullover |\n",
    "| 3 | Dress |\n",
    "| 4 | Coat |\n",
    "| 5 | Sandal |\n",
    "| 6 | Shirt |\n",
    "| 7 | Sneaker |\n",
    "| 8 | Bag |\n",
    "| 9 | Ankle boot |"
   ]
  },
  {
   "cell_type": "markdown",
   "metadata": {},
   "source": [
    "## TODO: Insert your surname, name and ID number\n",
    "\n",
    "Student surname: Saccaro\n",
    "\n",
    "Student name: Lorenzo\n",
    "    \n",
    "ID: 1123705"
   ]
  },
  {
   "cell_type": "code",
   "execution_count": 1,
   "metadata": {},
   "outputs": [
    {
     "name": "stdout",
     "output_type": "stream",
     "text": [
      "scikit-learn version:  0.23.1\n"
     ]
    }
   ],
   "source": [
    "#load the required packages and check Scikit-learn version\n",
    "\n",
    "%matplotlib inline  \n",
    "\n",
    "import numpy as np\n",
    "import scipy as sp\n",
    "import matplotlib.pyplot as plt\n",
    "import pandas as pd\n",
    "import time\n",
    "\n",
    "import sklearn\n",
    "print ('scikit-learn version: ', sklearn.__version__)\n",
    "from sklearn.neural_network import MLPClassifier\n",
    "from sklearn.model_selection import GridSearchCV\n",
    "from sklearn.svm import SVC"
   ]
  },
  {
   "cell_type": "code",
   "execution_count": 2,
   "metadata": {},
   "outputs": [],
   "source": [
    "# helper function to load Fashion MNIST dataset from disk\n",
    "def load_mnist(path, kind='train'):\n",
    "    import os\n",
    "    import gzip\n",
    "    import numpy as np\n",
    "    labels_path = os.path.join(path, '%s-labels-idx1-ubyte.gz' % kind)\n",
    "    images_path = os.path.join(path, '%s-images-idx3-ubyte.gz' % kind)\n",
    "    with gzip.open(labels_path, 'rb') as lbpath:\n",
    "        labels = np.frombuffer(lbpath.read(), dtype=np.uint8,offset=8)\n",
    "    with gzip.open(images_path, 'rb') as imgpath:\n",
    "        images = np.frombuffer(imgpath.read(), dtype=np.uint8,offset=16).reshape(len(labels), 784)\n",
    "    return images, labels"
   ]
  },
  {
   "cell_type": "markdown",
   "metadata": {},
   "source": [
    "# TODO \n",
    "Place a seed for the random generatoryour (you can use your \"numero di matricola\"). Try to change the seed to see the impact of the randomization."
   ]
  },
  {
   "cell_type": "code",
   "execution_count": 3,
   "metadata": {},
   "outputs": [],
   "source": [
    "ID = 1123705\n",
    "np.random.seed(ID)"
   ]
  },
  {
   "cell_type": "code",
   "execution_count": 4,
   "metadata": {},
   "outputs": [
    {
     "name": "stdout",
     "output_type": "stream",
     "text": [
      "Number of samples in the MNIST dataset: 60000\n"
     ]
    }
   ],
   "source": [
    "#load the MNIST dataset and let's normalize the features so that each value is in [0,1]\n",
    "X, y = load_mnist(\"data\")\n",
    "print(\"Number of samples in the MNIST dataset:\", X.shape[0])\n",
    "# rescale the data\n",
    "X = X / 255.0"
   ]
  },
  {
   "cell_type": "markdown",
   "metadata": {},
   "source": [
    "Now split into training and test. We start with a small training set of 600 samples to reduce computation time while 4000 samples will be used for testing. Make sure that each label is present at least 10 times in train and test set frequencies."
   ]
  },
  {
   "cell_type": "code",
   "execution_count": 5,
   "metadata": {},
   "outputs": [
    {
     "name": "stdout",
     "output_type": "stream",
     "text": [
      "Labels in training dataset:  [0 1 2 3 4 5 6 7 8 9]\n",
      "Frequencies in training dataset:  [63 57 63 54 43 68 65 73 56 58]\n",
      "Labels in test set:  [0 1 2 3 4 5 6 7 8 9]\n",
      "Frequencies in test set:  [396 381 421 394 417 365 388 418 425 395]\n"
     ]
    }
   ],
   "source": [
    "#random permute the data and split into training and test taking the first 600\n",
    "#data samples as training and 4000 as test set\n",
    "permutation = np.random.permutation(X.shape[0])\n",
    "\n",
    "X = X[permutation]\n",
    "y = y[permutation]\n",
    "\n",
    "m_training = 600\n",
    "m_test = 4000\n",
    "\n",
    "# to have same test set for all experiments\n",
    "\n",
    "X_train, X_test = X[m_test:m_test+m_training], X[:m_test]\n",
    "y_train, y_test = y[m_test:m_test+m_training], y[:m_test]\n",
    "\n",
    "labels, freqs = np.unique(y_train, return_counts=True)\n",
    "print(\"Labels in training dataset: \", labels)\n",
    "print(\"Frequencies in training dataset: \", freqs)\n",
    "\n",
    "labelsT, freqsT = np.unique(y_test, return_counts=True)\n",
    "print(\"Labels in test set: \", labelsT)\n",
    "print(\"Frequencies in test set: \", freqsT)\n"
   ]
  },
  {
   "cell_type": "code",
   "execution_count": 6,
   "metadata": {},
   "outputs": [],
   "source": [
    "#function for plotting a image and printing the corresponding label\n",
    "def plot_input(X_matrix, labels, index):\n",
    "    print(\"INPUT:\")\n",
    "    plt.imshow(\n",
    "        X_matrix[index].reshape(28,28),\n",
    "        cmap          = plt.cm.gray_r,\n",
    "        interpolation = \"nearest\"\n",
    "    )\n",
    "    plt.show()\n",
    "    print(\"LABEL: %i\"%labels[index])\n",
    "    return"
   ]
  },
  {
   "cell_type": "code",
   "execution_count": 7,
   "metadata": {},
   "outputs": [
    {
     "name": "stdout",
     "output_type": "stream",
     "text": [
      "INPUT:\n"
     ]
    },
    {
     "data": {
      "image/png": "[encoded data removed]",
      "text/plain": [
       "<Figure size 432x288 with 1 Axes>"
      ]
     },
     "metadata": {
      "needs_background": "light"
     },
     "output_type": "display_data"
    },
    {
     "name": "stdout",
     "output_type": "stream",
     "text": [
      "LABEL: 5\n",
      "INPUT:\n"
     ]
    },
    {
     "data": {
      "image/png": "[encoded data removed]",
      "text/plain": [
       "<Figure size 432x288 with 1 Axes>"
      ]
     },
     "metadata": {
      "needs_background": "light"
     },
     "output_type": "display_data"
    },
    {
     "name": "stdout",
     "output_type": "stream",
     "text": [
      "LABEL: 3\n",
      "INPUT:\n"
     ]
    },
    {
     "data": {
      "image/png": "[encoded data removed]",
      "text/plain": [
       "<Figure size 432x288 with 1 Axes>"
      ]
     },
     "metadata": {
      "needs_background": "light"
     },
     "output_type": "display_data"
    },
    {
     "name": "stdout",
     "output_type": "stream",
     "text": [
      "LABEL: 8\n"
     ]
    }
   ],
   "source": [
    "#let's try the plotting function\n",
    "plot_input(X_train,y_train,10)\n",
    "plot_input(X_test,y_test,100)\n",
    "plot_input(X_test,y_test,1000)"
   ]
  },
  {
   "cell_type": "markdown",
   "metadata": {},
   "source": [
    "### TO DO 1\n",
    "\n",
    "Now use a feed-forward Neural Network for prediction. Use the multi-layer perceptron classifier, with the following parameters: max_iter=250, alpha=1e-4, solver='sgd', tol=1e-4, learning_rate_init=.1, random_state=ID (this last parameter ensures the run is the same even if you run it more than once). The alpha parameter is the regularization term.\n",
    "\n",
    "Then, using the default activation function, pick four or five architectures to consider, with different numbers of hidden layers and different sizes. It is not necessary to create huge neural networks, you can limit to 3 layers and, for each layer, its maximum size can be of 50. Evaluate the architectures you chose using GridSearchCV with cv=5.\n",
    "\n",
    "You can reduce the number of iterations if the running time is too long on your computer.\n"
   ]
  },
  {
   "cell_type": "code",
   "execution_count": 8,
   "metadata": {},
   "outputs": [
    {
     "name": "stdout",
     "output_type": "stream",
     "text": [
      "RESULTS FOR NN\n",
      "\n",
      "Best parameters set found:\n",
      "{'hidden_layer_sizes': (40,)}\n",
      "Score with best parameters:\n",
      "0.8066666666666666\n",
      "All scores on the grid:\n",
      "parameters: {'hidden_layer_sizes': (10,)} score: 0.7683\n",
      "parameters: {'hidden_layer_sizes': (15,)} score: 0.7867\n",
      "parameters: {'hidden_layer_sizes': (20,)} score: 0.7983\n",
      "parameters: {'hidden_layer_sizes': (25,)} score: 0.8033\n",
      "parameters: {'hidden_layer_sizes': (30,)} score: 0.7900\n",
      "parameters: {'hidden_layer_sizes': (35,)} score: 0.7967\n",
      "parameters: {'hidden_layer_sizes': (40,)} score: 0.8067\n",
      "parameters: {'hidden_layer_sizes': (45,)} score: 0.7917\n",
      "parameters: {'hidden_layer_sizes': (50,)} score: 0.7983\n",
      "parameters: {'hidden_layer_sizes': (10, 10)} score: 0.5150\n",
      "parameters: {'hidden_layer_sizes': (10, 20)} score: 0.6083\n",
      "parameters: {'hidden_layer_sizes': (10, 30)} score: 0.6600\n",
      "parameters: {'hidden_layer_sizes': (10, 40)} score: 0.6467\n",
      "parameters: {'hidden_layer_sizes': (10, 50)} score: 0.6417\n",
      "parameters: {'hidden_layer_sizes': (20, 10)} score: 0.7467\n",
      "parameters: {'hidden_layer_sizes': (20, 20)} score: 0.7483\n",
      "parameters: {'hidden_layer_sizes': (20, 30)} score: 0.7567\n",
      "parameters: {'hidden_layer_sizes': (20, 40)} score: 0.7900\n",
      "parameters: {'hidden_layer_sizes': (20, 50)} score: 0.7717\n",
      "parameters: {'hidden_layer_sizes': (30, 10)} score: 0.7417\n",
      "parameters: {'hidden_layer_sizes': (30, 20)} score: 0.7033\n",
      "parameters: {'hidden_layer_sizes': (30, 30)} score: 0.7850\n",
      "parameters: {'hidden_layer_sizes': (30, 40)} score: 0.7883\n",
      "parameters: {'hidden_layer_sizes': (30, 50)} score: 0.7750\n",
      "parameters: {'hidden_layer_sizes': (40, 10)} score: 0.6400\n",
      "parameters: {'hidden_layer_sizes': (40, 20)} score: 0.7617\n",
      "parameters: {'hidden_layer_sizes': (40, 30)} score: 0.7883\n",
      "parameters: {'hidden_layer_sizes': (40, 40)} score: 0.7583\n",
      "parameters: {'hidden_layer_sizes': (40, 50)} score: 0.7967\n",
      "parameters: {'hidden_layer_sizes': (50, 10)} score: 0.7917\n",
      "parameters: {'hidden_layer_sizes': (50, 20)} score: 0.7683\n",
      "parameters: {'hidden_layer_sizes': (50, 30)} score: 0.7983\n",
      "parameters: {'hidden_layer_sizes': (50, 40)} score: 0.8000\n",
      "parameters: {'hidden_layer_sizes': (50, 50)} score: 0.7933\n",
      "parameters: {'hidden_layer_sizes': (10, 10, 10)} score: 0.4467\n",
      "parameters: {'hidden_layer_sizes': (10, 10, 20)} score: 0.5283\n",
      "parameters: {'hidden_layer_sizes': (10, 10, 30)} score: 0.5650\n",
      "parameters: {'hidden_layer_sizes': (10, 10, 40)} score: 0.6117\n",
      "parameters: {'hidden_layer_sizes': (10, 10, 50)} score: 0.6833\n",
      "parameters: {'hidden_layer_sizes': (10, 20, 10)} score: 0.2783\n",
      "parameters: {'hidden_layer_sizes': (10, 20, 20)} score: 0.5317\n",
      "parameters: {'hidden_layer_sizes': (10, 20, 30)} score: 0.3783\n",
      "parameters: {'hidden_layer_sizes': (10, 20, 40)} score: 0.4267\n",
      "parameters: {'hidden_layer_sizes': (10, 20, 50)} score: 0.6000\n",
      "parameters: {'hidden_layer_sizes': (10, 30, 10)} score: 0.6317\n",
      "parameters: {'hidden_layer_sizes': (10, 30, 20)} score: 0.3750\n",
      "parameters: {'hidden_layer_sizes': (10, 30, 30)} score: 0.6517\n",
      "parameters: {'hidden_layer_sizes': (10, 30, 40)} score: 0.5100\n",
      "parameters: {'hidden_layer_sizes': (10, 30, 50)} score: 0.5817\n",
      "parameters: {'hidden_layer_sizes': (10, 40, 10)} score: 0.3550\n",
      "parameters: {'hidden_layer_sizes': (10, 40, 20)} score: 0.5617\n",
      "parameters: {'hidden_layer_sizes': (10, 40, 30)} score: 0.6067\n",
      "parameters: {'hidden_layer_sizes': (10, 40, 40)} score: 0.4067\n",
      "parameters: {'hidden_layer_sizes': (10, 40, 50)} score: 0.5483\n",
      "parameters: {'hidden_layer_sizes': (10, 50, 10)} score: 0.4750\n",
      "parameters: {'hidden_layer_sizes': (10, 50, 20)} score: 0.5300\n",
      "parameters: {'hidden_layer_sizes': (10, 50, 30)} score: 0.6017\n",
      "parameters: {'hidden_layer_sizes': (10, 50, 40)} score: 0.5933\n",
      "parameters: {'hidden_layer_sizes': (10, 50, 50)} score: 0.6167\n",
      "parameters: {'hidden_layer_sizes': (20, 10, 10)} score: 0.4917\n",
      "parameters: {'hidden_layer_sizes': (20, 10, 20)} score: 0.5750\n",
      "parameters: {'hidden_layer_sizes': (20, 10, 30)} score: 0.6200\n",
      "parameters: {'hidden_layer_sizes': (20, 10, 40)} score: 0.3250\n",
      "parameters: {'hidden_layer_sizes': (20, 10, 50)} score: 0.2917\n",
      "parameters: {'hidden_layer_sizes': (20, 20, 10)} score: 0.2150\n",
      "parameters: {'hidden_layer_sizes': (20, 20, 20)} score: 0.4717\n",
      "parameters: {'hidden_layer_sizes': (20, 20, 30)} score: 0.4400\n",
      "parameters: {'hidden_layer_sizes': (20, 20, 40)} score: 0.3767\n",
      "parameters: {'hidden_layer_sizes': (20, 20, 50)} score: 0.5750\n",
      "parameters: {'hidden_layer_sizes': (20, 30, 10)} score: 0.4700\n",
      "parameters: {'hidden_layer_sizes': (20, 30, 20)} score: 0.6183\n",
      "parameters: {'hidden_layer_sizes': (20, 30, 30)} score: 0.5417\n",
      "parameters: {'hidden_layer_sizes': (20, 30, 40)} score: 0.7533\n",
      "parameters: {'hidden_layer_sizes': (20, 30, 50)} score: 0.4583\n",
      "parameters: {'hidden_layer_sizes': (20, 40, 10)} score: 0.5767\n",
      "parameters: {'hidden_layer_sizes': (20, 40, 20)} score: 0.3967\n",
      "parameters: {'hidden_layer_sizes': (20, 40, 30)} score: 0.6383\n",
      "parameters: {'hidden_layer_sizes': (20, 40, 40)} score: 0.4367\n",
      "parameters: {'hidden_layer_sizes': (20, 40, 50)} score: 0.6783\n",
      "parameters: {'hidden_layer_sizes': (20, 50, 10)} score: 0.5617\n",
      "parameters: {'hidden_layer_sizes': (20, 50, 20)} score: 0.6550\n",
      "parameters: {'hidden_layer_sizes': (20, 50, 30)} score: 0.6750\n",
      "parameters: {'hidden_layer_sizes': (20, 50, 40)} score: 0.6500\n",
      "parameters: {'hidden_layer_sizes': (20, 50, 50)} score: 0.6417\n",
      "parameters: {'hidden_layer_sizes': (30, 10, 10)} score: 0.5067\n",
      "parameters: {'hidden_layer_sizes': (30, 10, 20)} score: 0.5583\n",
      "parameters: {'hidden_layer_sizes': (30, 10, 30)} score: 0.5817\n",
      "parameters: {'hidden_layer_sizes': (30, 10, 40)} score: 0.4933\n",
      "parameters: {'hidden_layer_sizes': (30, 10, 50)} score: 0.5450\n",
      "parameters: {'hidden_layer_sizes': (30, 20, 10)} score: 0.5800\n",
      "parameters: {'hidden_layer_sizes': (30, 20, 20)} score: 0.5417\n",
      "parameters: {'hidden_layer_sizes': (30, 20, 30)} score: 0.4433\n",
      "parameters: {'hidden_layer_sizes': (30, 20, 40)} score: 0.6467\n",
      "parameters: {'hidden_layer_sizes': (30, 20, 50)} score: 0.7583\n",
      "parameters: {'hidden_layer_sizes': (30, 30, 10)} score: 0.5117\n",
      "parameters: {'hidden_layer_sizes': (30, 30, 20)} score: 0.6833\n",
      "parameters: {'hidden_layer_sizes': (30, 30, 30)} score: 0.4917\n",
      "parameters: {'hidden_layer_sizes': (30, 30, 40)} score: 0.7500\n",
      "parameters: {'hidden_layer_sizes': (30, 30, 50)} score: 0.5333\n",
      "parameters: {'hidden_layer_sizes': (30, 40, 10)} score: 0.2900\n",
      "parameters: {'hidden_layer_sizes': (30, 40, 20)} score: 0.5967\n",
      "parameters: {'hidden_layer_sizes': (30, 40, 30)} score: 0.4867\n",
      "parameters: {'hidden_layer_sizes': (30, 40, 40)} score: 0.5517\n",
      "parameters: {'hidden_layer_sizes': (30, 40, 50)} score: 0.6400\n",
      "parameters: {'hidden_layer_sizes': (30, 50, 10)} score: 0.3650\n",
      "parameters: {'hidden_layer_sizes': (30, 50, 20)} score: 0.6750\n",
      "parameters: {'hidden_layer_sizes': (30, 50, 30)} score: 0.7200\n",
      "parameters: {'hidden_layer_sizes': (30, 50, 40)} score: 0.6800\n",
      "parameters: {'hidden_layer_sizes': (30, 50, 50)} score: 0.6867\n",
      "parameters: {'hidden_layer_sizes': (40, 10, 10)} score: 0.4000\n",
      "parameters: {'hidden_layer_sizes': (40, 10, 20)} score: 0.5250\n",
      "parameters: {'hidden_layer_sizes': (40, 10, 30)} score: 0.4867\n",
      "parameters: {'hidden_layer_sizes': (40, 10, 40)} score: 0.3600\n",
      "parameters: {'hidden_layer_sizes': (40, 10, 50)} score: 0.2867\n",
      "parameters: {'hidden_layer_sizes': (40, 20, 10)} score: 0.2383\n",
      "parameters: {'hidden_layer_sizes': (40, 20, 20)} score: 0.6283\n",
      "parameters: {'hidden_layer_sizes': (40, 20, 30)} score: 0.7300\n",
      "parameters: {'hidden_layer_sizes': (40, 20, 40)} score: 0.6900\n",
      "parameters: {'hidden_layer_sizes': (40, 20, 50)} score: 0.5117\n",
      "parameters: {'hidden_layer_sizes': (40, 30, 10)} score: 0.6233\n",
      "parameters: {'hidden_layer_sizes': (40, 30, 20)} score: 0.7567\n",
      "parameters: {'hidden_layer_sizes': (40, 30, 30)} score: 0.7067\n",
      "parameters: {'hidden_layer_sizes': (40, 30, 40)} score: 0.6617\n",
      "parameters: {'hidden_layer_sizes': (40, 30, 50)} score: 0.7117\n",
      "parameters: {'hidden_layer_sizes': (40, 40, 10)} score: 0.5117\n",
      "parameters: {'hidden_layer_sizes': (40, 40, 20)} score: 0.4700\n",
      "parameters: {'hidden_layer_sizes': (40, 40, 30)} score: 0.5500\n",
      "parameters: {'hidden_layer_sizes': (40, 40, 40)} score: 0.6433\n",
      "parameters: {'hidden_layer_sizes': (40, 40, 50)} score: 0.7433\n",
      "parameters: {'hidden_layer_sizes': (40, 50, 10)} score: 0.5267\n",
      "parameters: {'hidden_layer_sizes': (40, 50, 20)} score: 0.6917\n",
      "parameters: {'hidden_layer_sizes': (40, 50, 30)} score: 0.6950\n",
      "parameters: {'hidden_layer_sizes': (40, 50, 40)} score: 0.5983\n",
      "parameters: {'hidden_layer_sizes': (40, 50, 50)} score: 0.4467\n",
      "parameters: {'hidden_layer_sizes': (50, 10, 10)} score: 0.4733\n",
      "parameters: {'hidden_layer_sizes': (50, 10, 20)} score: 0.5467\n",
      "parameters: {'hidden_layer_sizes': (50, 10, 30)} score: 0.5983\n",
      "parameters: {'hidden_layer_sizes': (50, 10, 40)} score: 0.4583\n",
      "parameters: {'hidden_layer_sizes': (50, 10, 50)} score: 0.6583\n",
      "parameters: {'hidden_layer_sizes': (50, 20, 10)} score: 0.4417\n",
      "parameters: {'hidden_layer_sizes': (50, 20, 20)} score: 0.7467\n",
      "parameters: {'hidden_layer_sizes': (50, 20, 30)} score: 0.5150\n",
      "parameters: {'hidden_layer_sizes': (50, 20, 40)} score: 0.6733\n",
      "parameters: {'hidden_layer_sizes': (50, 20, 50)} score: 0.7200\n",
      "parameters: {'hidden_layer_sizes': (50, 30, 10)} score: 0.5583\n",
      "parameters: {'hidden_layer_sizes': (50, 30, 20)} score: 0.4367\n",
      "parameters: {'hidden_layer_sizes': (50, 30, 30)} score: 0.7383\n",
      "parameters: {'hidden_layer_sizes': (50, 30, 40)} score: 0.6383\n",
      "parameters: {'hidden_layer_sizes': (50, 30, 50)} score: 0.6567\n",
      "parameters: {'hidden_layer_sizes': (50, 40, 10)} score: 0.6383\n",
      "parameters: {'hidden_layer_sizes': (50, 40, 20)} score: 0.7667\n",
      "parameters: {'hidden_layer_sizes': (50, 40, 30)} score: 0.6583\n",
      "parameters: {'hidden_layer_sizes': (50, 40, 40)} score: 0.7700\n",
      "parameters: {'hidden_layer_sizes': (50, 40, 50)} score: 0.7317\n",
      "parameters: {'hidden_layer_sizes': (50, 50, 10)} score: 0.3350\n",
      "parameters: {'hidden_layer_sizes': (50, 50, 20)} score: 0.7333\n",
      "parameters: {'hidden_layer_sizes': (50, 50, 30)} score: 0.6333\n",
      "parameters: {'hidden_layer_sizes': (50, 50, 40)} score: 0.7883\n",
      "parameters: {'hidden_layer_sizes': (50, 50, 50)} score: 0.5500\n"
     ]
    }
   ],
   "source": [
    "# these are sample values but feel free to change them as you like, try to experiment with different sizes!!\n",
    "#parameters = {'hidden_layer_sizes': [(10,), (20,), (30,), (20,20,), (30,30,20), (30,20), (25,), (30,20,10)]}\n",
    "\n",
    "sing_layer = [(i,) for i in range (10,51,5)]\n",
    "dual_layer = [(i,j) for i in range(10,51,10) for j in range(10,51,10)]\n",
    "triple_layer = [(i,j,k) for i in range(10,51,10) for j in range(10,51,10) for k in range (10,51,10)] \n",
    "par_list = sing_layer + dual_layer + triple_layer\n",
    "\n",
    "parameters = {'hidden_layer_sizes': par_list}\n",
    "\n",
    "mlp = MLPClassifier(max_iter=250, alpha=1e-4, solver='sgd',\n",
    "                    tol=1e-4, random_state=ID,\n",
    "                    learning_rate_init=.1)\n",
    "\n",
    "NN_arch_search = GridSearchCV(mlp,param_grid=parameters,n_jobs=-1,cv=5)\n",
    "NN_arch_search.fit(X_train,y_train)\n",
    "\n",
    "results = pd.DataFrame(NN_arch_search.cv_results_)\n",
    "print ('RESULTS FOR NN\\n')\n",
    "\n",
    "print(\"Best parameters set found:\")\n",
    "print(NN_arch_search.best_params_)\n",
    "\n",
    "print(\"Score with best parameters:\")\n",
    "print(NN_arch_search.best_score_)\n",
    "\n",
    "\n",
    "# save best_archs for TODO 3\n",
    "best_archs = []\n",
    "print(\"All scores on the grid:\")\n",
    "for val in results[[\"params\",\"mean_test_score\"]].values:\n",
    "    if val[1] >= 0.8:\n",
    "        best_archs.append(val[0]['hidden_layer_sizes'])\n",
    "    print(\"parameters:\",val[0], \"score: {:.4f}\".format(val[1]))\n"
   ]
  },
  {
   "cell_type": "markdown",
   "metadata": {},
   "source": [
    "### TO DO 2\n",
    "\n",
    "Now try also different batch sizes, while keeping the best NN architecture you have found above. Remember that the batch size was previously set to the default value, i.e., min(200, n_samples). \n",
    "Recall that a batch size of 1 corresponds to baseline SGD, while using all the 480 training samples (there are 600 samples but in cross validation with 5 folders we use 1/5 of them for validation at each round) corresponds to standard GD and using a different mini-batch size lies in the middle between the two extreme cases."
   ]
  },
  {
   "cell_type": "code",
   "execution_count": 9,
   "metadata": {},
   "outputs": [
    {
     "name": "stdout",
     "output_type": "stream",
     "text": [
      "RESULTS FOR NN\n",
      "\n",
      "Best parameters set found:\n",
      "{'batch_size': 264}\n",
      "Score with best parameters:\n",
      "0.8033333333333335\n",
      "All scores on the grid:\n",
      "parameters: {'batch_size': 1} score: 0.1050\n",
      "parameters: {'batch_size': 32} score: 0.7667\n",
      "parameters: {'batch_size': 40} score: 0.7900\n",
      "parameters: {'batch_size': 48} score: 0.8017\n",
      "parameters: {'batch_size': 56} score: 0.8017\n",
      "parameters: {'batch_size': 64} score: 0.7867\n",
      "parameters: {'batch_size': 72} score: 0.7983\n",
      "parameters: {'batch_size': 80} score: 0.7883\n",
      "parameters: {'batch_size': 88} score: 0.7850\n",
      "parameters: {'batch_size': 96} score: 0.7933\n",
      "parameters: {'batch_size': 104} score: 0.7917\n",
      "parameters: {'batch_size': 112} score: 0.8000\n",
      "parameters: {'batch_size': 120} score: 0.7933\n",
      "parameters: {'batch_size': 128} score: 0.8017\n",
      "parameters: {'batch_size': 136} score: 0.8033\n",
      "parameters: {'batch_size': 144} score: 0.8000\n",
      "parameters: {'batch_size': 152} score: 0.8017\n",
      "parameters: {'batch_size': 160} score: 0.7933\n",
      "parameters: {'batch_size': 168} score: 0.8017\n",
      "parameters: {'batch_size': 176} score: 0.7983\n",
      "parameters: {'batch_size': 184} score: 0.7950\n",
      "parameters: {'batch_size': 192} score: 0.7950\n",
      "parameters: {'batch_size': 200} score: 0.8017\n",
      "parameters: {'batch_size': 208} score: 0.7900\n",
      "parameters: {'batch_size': 216} score: 0.8000\n",
      "parameters: {'batch_size': 224} score: 0.8033\n",
      "parameters: {'batch_size': 232} score: 0.7783\n",
      "parameters: {'batch_size': 240} score: 0.7950\n",
      "parameters: {'batch_size': 248} score: 0.8000\n",
      "parameters: {'batch_size': 256} score: 0.8000\n",
      "parameters: {'batch_size': 264} score: 0.8033\n",
      "parameters: {'batch_size': 272} score: 0.8017\n",
      "parameters: {'batch_size': 280} score: 0.7983\n",
      "parameters: {'batch_size': 288} score: 0.7983\n",
      "parameters: {'batch_size': 296} score: 0.8033\n",
      "parameters: {'batch_size': 304} score: 0.8017\n",
      "parameters: {'batch_size': 312} score: 0.7950\n",
      "parameters: {'batch_size': 320} score: 0.7933\n",
      "parameters: {'batch_size': 328} score: 0.7917\n",
      "parameters: {'batch_size': 336} score: 0.8017\n",
      "parameters: {'batch_size': 344} score: 0.7967\n",
      "parameters: {'batch_size': 352} score: 0.7967\n",
      "parameters: {'batch_size': 360} score: 0.7950\n",
      "parameters: {'batch_size': 368} score: 0.7983\n",
      "parameters: {'batch_size': 376} score: 0.7967\n",
      "parameters: {'batch_size': 384} score: 0.7967\n",
      "parameters: {'batch_size': 392} score: 0.7967\n",
      "parameters: {'batch_size': 400} score: 0.7967\n",
      "parameters: {'batch_size': 408} score: 0.7883\n",
      "parameters: {'batch_size': 416} score: 0.7950\n",
      "parameters: {'batch_size': 424} score: 0.7917\n",
      "parameters: {'batch_size': 432} score: 0.8017\n",
      "parameters: {'batch_size': 440} score: 0.7917\n",
      "parameters: {'batch_size': 448} score: 0.8000\n",
      "parameters: {'batch_size': 456} score: 0.7883\n",
      "parameters: {'batch_size': 464} score: 0.7533\n",
      "parameters: {'batch_size': 472} score: 0.6633\n",
      "parameters: {'batch_size': 480} score: 0.7983\n"
     ]
    }
   ],
   "source": [
    "# these are sample values corresponding to baseline SGD, a reasonable mini-batch size and standard GD\n",
    "# again feel free to change them as you like, try to experiment with different batch sizes!!\n",
    "#parameters = {'batch_size': [1, 32, 480]}\n",
    "\n",
    "par_list = [1] + list(range(32,481,8))\n",
    "parameters = {'batch_size': par_list}\n",
    "\n",
    "best_layer_size = NN_arch_search.best_params_.get('hidden_layer_sizes')\n",
    "\n",
    "mlp = MLPClassifier(hidden_layer_sizes=best_layer_size, max_iter=250, alpha=1e-4, solver='sgd',\n",
    "                    tol=1e-4, random_state=ID,\n",
    "                    learning_rate_init=.1)\n",
    "\n",
    "# need to specify that you would like to use the standard k-fold split otherwise sklearn create splits of different sizes\n",
    "kf = sklearn.model_selection.KFold(n_splits=5)\n",
    "\n",
    "# recall to use cv=kf to use the k-fold subdivision seen in the lectures\n",
    "\n",
    "NN_batch_search = GridSearchCV(mlp,param_grid=parameters,n_jobs=-1,cv=kf)\n",
    "NN_batch_search.fit(X_train,y_train)\n",
    "\n",
    "results = pd.DataFrame(NN_batch_search.cv_results_)\n",
    "print ('RESULTS FOR NN\\n')\n",
    "\n",
    "print(\"Best parameters set found:\")\n",
    "print(NN_batch_search.best_params_)\n",
    "\n",
    "print(\"Score with best parameters:\")\n",
    "print(NN_batch_search.best_score_)\n",
    "\n",
    "print(\"All scores on the grid:\")\n",
    "for val in results[[\"params\",\"mean_test_score\"]].values:\n",
    "    print(\"parameters:\",val[0], \"score: {:.4f}\".format(val[1]))"
   ]
  },
  {
   "cell_type": "markdown",
   "metadata": {},
   "source": [
    "### QUESTION 1\n",
    "\n",
    "What do you observe for different architectures and batch sizes? How do the number of layers and their sizes affect the performances? What do you observe for different batch sizes, in particular what happens to the training convergence for different batch sizes (notice that the algorithm could not converge for some batch sizes)?\n",
    "\n",
    "In general, for this problem, single layer ad dual layers NN have the best scores (with the exception of the dual-layer ones with the smaller numbers of neurons) while triple layer NN performance is poor in the majority of cases. Excluding the case for pure sgd (batch size = 1), scores are very similar to each other. For this seed (and a for a couple more tried)  the optimization reaches convergence for all batch_sizes  (the learning rate is very high at 0.1) also the number of training samples is very small. "
   ]
  },
  {
   "cell_type": "markdown",
   "metadata": {},
   "source": [
    "## [ANSWER TO QUESTION 1]"
   ]
  },
  {
   "cell_type": "markdown",
   "metadata": {},
   "source": [
    "### TODO 3:\n",
    "\n",
    "Plot the train and test accuracies as a function of the number of learnable parameters in your neural network. Print also the computation time for the various configurations you try (the code for getting the computation time is already provided). You can use 300 iterations (if you get a warning on convergence not reached it is not an issue for this lab)"
   ]
  },
  {
   "cell_type": "code",
   "execution_count": 10,
   "metadata": {},
   "outputs": [
    {
     "name": "stdout",
     "output_type": "stream",
     "text": [
      "Training MLP of size (10,) ...\n"
     ]
    },
    {
     "name": "stderr",
     "output_type": "stream",
     "text": [
      "C:\\Users\\loren\\anaconda3\\lib\\site-packages\\sklearn\\neural_network\\_multilayer_perceptron.py:582: ConvergenceWarning: Stochastic Optimizer: Maximum iterations (300) reached and the optimization hasn't converged yet.\n",
      "  warnings.warn(\n"
     ]
    },
    {
     "name": "stdout",
     "output_type": "stream",
     "text": [
      "Done, training time: 0.82 sec\n",
      "\n",
      "Training MLP of size (20,) ...\n"
     ]
    },
    {
     "name": "stderr",
     "output_type": "stream",
     "text": [
      "C:\\Users\\loren\\anaconda3\\lib\\site-packages\\sklearn\\neural_network\\_multilayer_perceptron.py:582: ConvergenceWarning: Stochastic Optimizer: Maximum iterations (300) reached and the optimization hasn't converged yet.\n",
      "  warnings.warn(\n"
     ]
    },
    {
     "name": "stdout",
     "output_type": "stream",
     "text": [
      "Done, training time: 0.98 sec\n",
      "\n",
      "Training MLP of size (20, 20) ...\n"
     ]
    },
    {
     "name": "stderr",
     "output_type": "stream",
     "text": [
      "C:\\Users\\loren\\anaconda3\\lib\\site-packages\\sklearn\\neural_network\\_multilayer_perceptron.py:582: ConvergenceWarning: Stochastic Optimizer: Maximum iterations (300) reached and the optimization hasn't converged yet.\n",
      "  warnings.warn(\n"
     ]
    },
    {
     "name": "stdout",
     "output_type": "stream",
     "text": [
      "Done, training time: 1.12 sec\n",
      "\n",
      "Training MLP of size (25,) ...\n"
     ]
    },
    {
     "name": "stderr",
     "output_type": "stream",
     "text": [
      "C:\\Users\\loren\\anaconda3\\lib\\site-packages\\sklearn\\neural_network\\_multilayer_perceptron.py:582: ConvergenceWarning: Stochastic Optimizer: Maximum iterations (300) reached and the optimization hasn't converged yet.\n",
      "  warnings.warn(\n"
     ]
    },
    {
     "name": "stdout",
     "output_type": "stream",
     "text": [
      "Done, training time: 0.98 sec\n",
      "\n",
      "Training MLP of size (30,) ...\n"
     ]
    },
    {
     "name": "stderr",
     "output_type": "stream",
     "text": [
      "C:\\Users\\loren\\anaconda3\\lib\\site-packages\\sklearn\\neural_network\\_multilayer_perceptron.py:582: ConvergenceWarning: Stochastic Optimizer: Maximum iterations (300) reached and the optimization hasn't converged yet.\n",
      "  warnings.warn(\n"
     ]
    },
    {
     "name": "stdout",
     "output_type": "stream",
     "text": [
      "Done, training time: 1.05 sec\n",
      "\n",
      "Training MLP of size (30, 20) ...\n"
     ]
    },
    {
     "name": "stderr",
     "output_type": "stream",
     "text": [
      "C:\\Users\\loren\\anaconda3\\lib\\site-packages\\sklearn\\neural_network\\_multilayer_perceptron.py:582: ConvergenceWarning: Stochastic Optimizer: Maximum iterations (300) reached and the optimization hasn't converged yet.\n",
      "  warnings.warn(\n"
     ]
    },
    {
     "name": "stdout",
     "output_type": "stream",
     "text": [
      "Done, training time: 1.23 sec\n",
      "\n",
      "Training MLP of size (30, 20, 10) ...\n"
     ]
    },
    {
     "name": "stderr",
     "output_type": "stream",
     "text": [
      "C:\\Users\\loren\\anaconda3\\lib\\site-packages\\sklearn\\neural_network\\_multilayer_perceptron.py:582: ConvergenceWarning: Stochastic Optimizer: Maximum iterations (300) reached and the optimization hasn't converged yet.\n",
      "  warnings.warn(\n"
     ]
    },
    {
     "name": "stdout",
     "output_type": "stream",
     "text": [
      "Done, training time: 1.34 sec\n",
      "\n",
      "Training MLP of size (30, 30, 20) ...\n"
     ]
    },
    {
     "name": "stderr",
     "output_type": "stream",
     "text": [
      "C:\\Users\\loren\\anaconda3\\lib\\site-packages\\sklearn\\neural_network\\_multilayer_perceptron.py:582: ConvergenceWarning: Stochastic Optimizer: Maximum iterations (300) reached and the optimization hasn't converged yet.\n",
      "  warnings.warn(\n"
     ]
    },
    {
     "name": "stdout",
     "output_type": "stream",
     "text": [
      "Done, training time: 1.49 sec\n",
      "\n",
      "Training MLP of size (40,) ...\n"
     ]
    },
    {
     "name": "stderr",
     "output_type": "stream",
     "text": [
      "C:\\Users\\loren\\anaconda3\\lib\\site-packages\\sklearn\\neural_network\\_multilayer_perceptron.py:582: ConvergenceWarning: Stochastic Optimizer: Maximum iterations (300) reached and the optimization hasn't converged yet.\n",
      "  warnings.warn(\n"
     ]
    },
    {
     "name": "stdout",
     "output_type": "stream",
     "text": [
      "Done, training time: 1.23 sec\n",
      "\n",
      "Training MLP of size (50, 40) ...\n",
      "Done, training time: 1.54 sec\n",
      "\n"
     ]
    },
    {
     "name": "stderr",
     "output_type": "stream",
     "text": [
      "C:\\Users\\loren\\anaconda3\\lib\\site-packages\\sklearn\\neural_network\\_multilayer_perceptron.py:582: ConvergenceWarning: Stochastic Optimizer: Maximum iterations (300) reached and the optimization hasn't converged yet.\n",
      "  warnings.warn(\n"
     ]
    },
    {
     "data": {
      "image/png": "[encoded data removed]",
      "text/plain": [
       "<Figure size 1080x360 with 2 Axes>"
      ]
     },
     "metadata": {
      "needs_background": "light"
     },
     "output_type": "display_data"
    },
    {
     "data": {
      "image/png": "[encoded data removed]",
      "text/plain": [
       "<Figure size 504x360 with 1 Axes>"
      ]
     },
     "metadata": {
      "needs_background": "light"
     },
     "output_type": "display_data"
    }
   ],
   "source": [
    "import time\n",
    "from functools import reduce\n",
    "\n",
    "best_batch_size = NN_batch_search.best_params_.get('batch_size')\n",
    "\n",
    "# Function to compute the number of learnable parameters of a mlp given the size of its hidden layers\n",
    "def param_count(hl_size):\n",
    "    tot = 0\n",
    "    input_size, output_size = X_train.shape[1], len(labels)\n",
    "    tot += (input_size+1)*hl_size[0]\n",
    "    for i in range(1,len(hl_size)):\n",
    "        tot += (hl_size[i-1]+1)*hl_size[i]\n",
    "    tot += (hl_size[-1]+1)*output_size\n",
    "    return tot\n",
    "\n",
    "hl_sizes = [(10,), (20,), (30,), (20,20,), (30,30,20), (30,20), (30,20,10)] + best_archs\n",
    "hl_sizes.sort(key=lambda tup:param_count(tup)) # to sort correctly for increasing size\n",
    "hl_labels = [param_count(t) for t in hl_sizes]\n",
    "\n",
    "ti = time.time()\n",
    "train_acc_list, test_acc_list, times_list = [], [], []\n",
    "for hl_size in hl_sizes:\n",
    "    print('Training MLP of size {} ...'.format(hl_size))\n",
    "    #changed learnig rate to have more meaningful results on training time\n",
    "    mlp = MLPClassifier(hidden_layer_sizes=hl_size, batch_size=best_batch_size, max_iter=300, alpha=1e-4, solver='sgd',\n",
    "                    tol=1e-4, random_state=ID,\n",
    "                    learning_rate_init=.01)\n",
    "    mlp.fit(X_train,y_train)\n",
    "    #ADD YOUR CODE\n",
    "    \n",
    "    train_acc_list.append(mlp.score(X_train, y_train))\n",
    "    test_acc_list.append(mlp.score(X_test, y_test))\n",
    "    elapsed_time = time.time()-ti\n",
    "    print('Done, training time: {:.2f} sec\\n'.format(elapsed_time))\n",
    "    times_list.append(elapsed_time)\n",
    "    ti = time.time()\n",
    "\n",
    "fig, ax = plt.subplots(1,2, figsize=(15,5))\n",
    "\n",
    "\n",
    "ax[0].plot(train_acc_list)\n",
    "ax[0].set_xlabel('Number of learnable params')\n",
    "ax[0].set_title('Train accuracy')\n",
    "ax[0].set_xticks(np.arange(0,len(hl_labels)))\n",
    "ax[0].set_xticklabels(hl_labels)\n",
    "ax[0].grid(True)\n",
    "\n",
    "ax[1].plot(test_acc_list)\n",
    "ax[1].set_xlabel('Number of learnable params')\n",
    "ax[1].set_title('Test accuracy')\n",
    "ax[1].set_xticks(np.arange(0,len(hl_labels)))\n",
    "ax[1].set_xticklabels(hl_labels)\n",
    "ax[1].grid(True)\n",
    "\n",
    "fig2, ax2 = plt.subplots(figsize=(7,5))\n",
    "\n",
    "ax2.plot(times_list)\n",
    "ax2.set_xlabel('Number of learnable params')\n",
    "ax2.set_ylabel('Time [s]')\n",
    "ax2.set_title('Training time')\n",
    "ax2.set_xticks(np.arange(0,len(hl_labels)))\n",
    "ax2.set_xticklabels(hl_labels)\n",
    "ax2.grid(True)\n"
   ]
  },
  {
   "cell_type": "markdown",
   "metadata": {},
   "source": [
    "## Question 2:\n",
    "\n",
    "Comment about the training and test accuracies referring to the discussion on underfitting and overfitting we did in the course\n",
    "\n",
    "Train accuracy is expected to grow while increasing the number of parameters and that is what is seen in the first graph (with some oscillation due to some architecture performing poorlier than others) \n",
    "On the other hand, test accuracy first improves increasing the complexity of the NN but then dips again when the number of parameters gets too large. \n",
    "\n",
    "This shows the underfitting/overfitting problem: too few parameters can't accurately predict the output while using too many leads to an excellent fit of the training data, but poor generalization capabilities. \n",
    "\n",
    "As for the training time, as expected (with some fluctuations), it tends to increase with the number of learnable parameters. \n",
    "\n",
    "The idea is to select a model that balances train/test accuracy and has a reasonable training time given the computational power available."
   ]
  },
  {
   "cell_type": "markdown",
   "metadata": {},
   "source": [
    "## [ANSWER TO QUESTION 2]"
   ]
  },
  {
   "cell_type": "markdown",
   "metadata": {},
   "source": [
    "### TO DO 4\n",
    "\n",
    "Now try also to use different learning rates, while keeping the best NN architecture and batch size you have found above. Plot the learning curves (i.e., the variation of the loss over the steps, you can get it from the loss_curve_ object of sklearn) for the different values of the learning rate. Try to run each training for 600 iterations. "
   ]
  },
  {
   "cell_type": "code",
   "execution_count": 11,
   "metadata": {},
   "outputs": [
    {
     "name": "stderr",
     "output_type": "stream",
     "text": [
      "C:\\Users\\loren\\anaconda3\\lib\\site-packages\\sklearn\\neural_network\\_multilayer_perceptron.py:582: ConvergenceWarning: Stochastic Optimizer: Maximum iterations (600) reached and the optimization hasn't converged yet.\n",
      "  warnings.warn(\n"
     ]
    },
    {
     "name": "stdout",
     "output_type": "stream",
     "text": [
      "RESULTS FOR NN\n",
      "\n",
      "{'learning rate: 0.001': 0.905, 'learning rate: 0.01': 1.0, 'learning rate: 0.1': 1.0}\n"
     ]
    },
    {
     "data": {
      "image/png": "[encoded data removed]",
      "text/plain": [
       "<Figure size 432x288 with 1 Axes>"
      ]
     },
     "metadata": {
      "needs_background": "light"
     },
     "output_type": "display_data"
    }
   ],
   "source": [
    "import matplotlib.pyplot as plt\n",
    "import operator\n",
    "\n",
    "#lr_list = [0.001, 0.01, 0.1]\n",
    "lr_list = [10**exp for exp in range(-3,0)]\n",
    "scores = {}\n",
    "\n",
    "for lr in lr_list:\n",
    "    mlp = MLPClassifier(hidden_layer_sizes=best_layer_size, batch_size=best_batch_size, max_iter=600, alpha=1e-4, solver='sgd',\n",
    "                    tol=1e-4, random_state=ID,\n",
    "                    learning_rate_init=lr)\n",
    "    mlp.fit(X_train,y_train)\n",
    "    scores.update({'learning rate: {}'.format(lr): mlp.score(X_train,y_train)})\n",
    "    plt.plot(mlp.loss_curve_, label='lr = {}'.format(lr))\n",
    "    plt.title(\"Loss curve\")\n",
    "    plt.xlabel(\"iteration\")\n",
    "    plt.ylabel(\"loss\")\n",
    "    plt.legend()\n",
    "    \n",
    "\n",
    "print ('RESULTS FOR NN\\n')\n",
    "print(scores)\n",
    "\n"
   ]
  },
  {
   "cell_type": "markdown",
   "metadata": {},
   "source": [
    "### QUESTION 3\n",
    "\n",
    "Comment about the learning curves (i.e. the variation of the loss over the steps). How does the curve changes for different learning rates in terms of stability and speed of convergence ?\n",
    "\n",
    "With learning rate = 0.001, the loss curve is very smooth (there are no \"bumps\") but convergence is very slow and, actually, optimization is not finished with 600 iterations (see warning). The curve corresponding to lr = 0.01 has the fastest convergence speed (achieved after around 150 iterations) but some it is not very stable. The best, all-around, behavior is that of lr = 0.01: the curve looks almost (except for some very small \"bumps\") as smooth as the on for lr = 0.001, but in this case, convergence is faster and actually achieved.  "
   ]
  },
  {
   "cell_type": "markdown",
   "metadata": {},
   "source": [
    "## [ANSWER TO QUESTION 3]"
   ]
  },
  {
   "cell_type": "markdown",
   "metadata": {},
   "source": [
    "### TO DO 5\n",
    "\n",
    "Now get training and test error for a NN with best parameters (architecture, batch size and learning rate) from above. Plot the learning curve also for this case."
   ]
  },
  {
   "cell_type": "code",
   "execution_count": 12,
   "metadata": {
    "scrolled": false
   },
   "outputs": [
    {
     "name": "stdout",
     "output_type": "stream",
     "text": [
      "\n",
      "RESULTS FOR BEST NN\n",
      "\n",
      "Best NN training error: 0.000000\n",
      "Best NN test error: 0.207000\n"
     ]
    },
    {
     "data": {
      "image/png": "[encoded data removed]",
      "text/plain": [
       "<Figure size 432x288 with 1 Axes>"
      ]
     },
     "metadata": {
      "needs_background": "light"
     },
     "output_type": "display_data"
    }
   ],
   "source": [
    "#get training and test error for the best NN model from CV\n",
    "\n",
    "#ADD YOUR CODE\n",
    "mlp = MLPClassifier(hidden_layer_sizes=best_layer_size, batch_size=best_batch_size, max_iter=600, alpha=1e-4, solver='sgd',\n",
    "                    tol=1e-4, random_state=ID,\n",
    "                    learning_rate_init=0.01)\n",
    "\n",
    "mlp.fit(X_train,y_train)\n",
    "print ('\\nRESULTS FOR BEST NN\\n')\n",
    "\n",
    "\n",
    "training_error = 1 - mlp.score(X_train,y_train)\n",
    "test_error = 1 - mlp.score(X_test,y_test)\n",
    "print (\"Best NN training error: %f\" % training_error)\n",
    "print (\"Best NN test error: %f\" % test_error)\n",
    "\n",
    "#ADD YOUR CODE FOR PLOTTING\n",
    "plt.plot(mlp.loss_curve_)\n",
    "plt.title(\"Loss curve\")\n",
    "plt.xlabel(\"iteration\")\n",
    "plt.ylabel(\"loss\");"
   ]
  },
  {
   "cell_type": "markdown",
   "metadata": {},
   "source": [
    "## More data \n",
    "Now let's do the same but using 4000 (or less if it takes too long on your machine) data points for training. Use the same NN architecture as before, but you can try more if you like and have a powerful computer!!"
   ]
  },
  {
   "cell_type": "code",
   "execution_count": 13,
   "metadata": {},
   "outputs": [
    {
     "name": "stdout",
     "output_type": "stream",
     "text": [
      "Labels in training dataset:  [0 1 2 3 4 5 6 7 8 9]\n",
      "Frequencies in training dataset:  [364 391 400 414 397 422 357 394 445 416]\n"
     ]
    }
   ],
   "source": [
    "X = X[permutation]\n",
    "y = y[permutation]\n",
    "\n",
    "m_training = 4000\n",
    "\n",
    "X_train, X_test = X[m_test:m_test+m_training], X[:m_test]\n",
    "y_train, y_test = y[m_test:m_test+m_training], y[:m_test]\n",
    "\n",
    "labels, freqs = np.unique(y_train, return_counts=True)\n",
    "print(\"Labels in training dataset: \", labels)\n",
    "print(\"Frequencies in training dataset: \", freqs)"
   ]
  },
  {
   "cell_type": "markdown",
   "metadata": {},
   "source": [
    "### TO DO 6\n",
    "\n",
    "Now train the NNs with the added data points using the optimum parameters found above. Eventually, feel free to try different architectures if you like. We suggest that you use 'verbose=True' so have an idea of how long it takes to run 1 iteration (eventually reduce also the number of iterations to 50)."
   ]
  },
  {
   "cell_type": "code",
   "execution_count": 14,
   "metadata": {},
   "outputs": [
    {
     "name": "stdout",
     "output_type": "stream",
     "text": [
      "\n",
      "RESULTS FOR BEST NN\n",
      "\n",
      "Best NN training error: 0.000500\n",
      "Best NN test error: 0.169500\n"
     ]
    },
    {
     "name": "stderr",
     "output_type": "stream",
     "text": [
      "C:\\Users\\loren\\anaconda3\\lib\\site-packages\\sklearn\\neural_network\\_multilayer_perceptron.py:582: ConvergenceWarning: Stochastic Optimizer: Maximum iterations (600) reached and the optimization hasn't converged yet.\n",
      "  warnings.warn(\n"
     ]
    },
    {
     "data": {
      "image/png": "[encoded data removed]",
      "text/plain": [
       "<Figure size 432x288 with 1 Axes>"
      ]
     },
     "metadata": {
      "needs_background": "light"
     },
     "output_type": "display_data"
    }
   ],
   "source": [
    "# use best architecture and params from before\n",
    "\n",
    "mlp_large = MLPClassifier(hidden_layer_sizes=best_layer_size, batch_size=best_batch_size, max_iter=600, alpha=1e-4, solver='sgd',\n",
    "                    tol=1e-4, random_state=ID,\n",
    "                    learning_rate_init=0.01)\n",
    "\n",
    "mlp_large.fit(X_train,y_train)\n",
    "print ('\\nRESULTS FOR BEST NN\\n')\n",
    "\n",
    "\n",
    "training_error = 1 - mlp_large.score(X_train,y_train)\n",
    "test_error = 1 - mlp_large.score(X_test,y_test)\n",
    "print (\"Best NN training error: %f\" % training_error)\n",
    "print (\"Best NN test error: %f\" % test_error)\n",
    "plt.plot(mlp_large.loss_curve_)\n",
    "plt.title(\"Loss curve\")\n",
    "plt.xlabel(\"iteration\")\n",
    "plt.ylabel(\"loss\");"
   ]
  },
  {
   "cell_type": "markdown",
   "metadata": {},
   "source": [
    "## QUESTION 4\n",
    "Compare the train and test error you got with a large number of samples with the best one you obtained with only 600 data points. Comment about the results you obtained.\n",
    "\n",
    "With m = 600 all training samples are correctly classified thus train_err = 0.  When increasing m to 4000,  after 600 iterations, the optimization doesn't converge and the train_err  is > 0.  As expected, the large_NN performs better when used on the test_set. \n",
    "\n",
    "Some other results, increasing m_training are:\n",
    "5000 -> 0.154 7000-> 0.153 10000-> 0.153\n",
    "\n",
    "Trying with different seeds, results for m=4000 are usually in the range 0.175 - 0.165. \n",
    "\n",
    "Increasing the max number of iterations for m=4000 lets the optimizer converge: this produces a marginal improvement in the test score too. "
   ]
  },
  {
   "cell_type": "markdown",
   "metadata": {},
   "source": [
    "#### [ANSWER TO QUESTION 4]"
   ]
  },
  {
   "cell_type": "markdown",
   "metadata": {},
   "source": [
    "### TO DO 7\n",
    "\n",
    "Plot an example that was missclassified by NN with m=600 training data points and it is now instead correctly classified by NN with m=4000 training data points."
   ]
  },
  {
   "cell_type": "code",
   "execution_count": 15,
   "metadata": {},
   "outputs": [],
   "source": [
    "NN_prediction = mlp.predict(X_test)\n",
    "large_NN_prediction = mlp_large.predict(X_test)\n",
    "        "
   ]
  },
  {
   "cell_type": "code",
   "execution_count": 16,
   "metadata": {},
   "outputs": [
    {
     "name": "stdout",
     "output_type": "stream",
     "text": [
      "INPUT:\n"
     ]
    },
    {
     "data": {
      "image/png": "[encoded data removed]",
      "text/plain": [
       "<Figure size 432x288 with 1 Axes>"
      ]
     },
     "metadata": {
      "needs_background": "light"
     },
     "output_type": "display_data"
    },
    {
     "name": "stdout",
     "output_type": "stream",
     "text": [
      "LABEL: 6\n",
      "index selected: 16\n",
      "label predicted by NN: 2\n",
      "label predicted by large NN: 6\n"
     ]
    }
   ],
   "source": [
    "index_bad_good = 0\n",
    "while not (large_NN_prediction[index_bad_good]==y_test[index_bad_good] and not NN_prediction[index_bad_good]==y_test[index_bad_good]):\n",
    "    index_bad_good +=1\n",
    "    \n",
    "plot_input(X_test,y_test,index_bad_good)\n",
    "print(\"index selected:\", index_bad_good)\n",
    "print(\"label predicted by NN:\", NN_prediction[index_bad_good])\n",
    "print(\"label predicted by large NN:\", large_NN_prediction[index_bad_good])"
   ]
  },
  {
   "cell_type": "markdown",
   "metadata": {},
   "source": [
    "### TO DO 8\n",
    "\n",
    "Let's plot the weigths of the multi-layer perceptron classifier, for the best NN we get with 600 data points and with 4000 data points. The code is already provided, just fix variable names (e.g., replace mlp , mlp_large with your estimators) in order to have it working with your implementation\n",
    "\n"
   ]
  },
  {
   "cell_type": "code",
   "execution_count": 17,
   "metadata": {},
   "outputs": [
    {
     "name": "stdout",
     "output_type": "stream",
     "text": [
      "Weights with 600 data points:\n"
     ]
    },
    {
     "data": {
      "image/png": "[encoded data removed]",
      "text/plain": [
       "<Figure size 432x288 with 16 Axes>"
      ]
     },
     "metadata": {},
     "output_type": "display_data"
    },
    {
     "name": "stdout",
     "output_type": "stream",
     "text": [
      "Weights with 4000 data points:\n"
     ]
    },
    {
     "data": {
      "image/png": "[encoded data removed]",
      "text/plain": [
       "<Figure size 432x288 with 16 Axes>"
      ]
     },
     "metadata": {},
     "output_type": "display_data"
    }
   ],
   "source": [
    "print(\"Weights with 600 data points:\")\n",
    "\n",
    "fig, axes = plt.subplots(4, 4)\n",
    "vmin, vmax = mlp.coefs_[0].min(), mlp.coefs_[0].max()\n",
    "for coef, ax in zip(mlp.coefs_[0].T, axes.ravel()):\n",
    "    ax.matshow(coef.reshape(28, 28), cmap=plt.cm.gray, vmin=.5 * vmin,\n",
    "               vmax=.5 * vmax)\n",
    "    ax.set_xticks(())\n",
    "    ax.set_yticks(())\n",
    "\n",
    "plt.show()\n",
    "\n",
    "print(\"Weights with 4000 data points:\")\n",
    "\n",
    "fig, axes = plt.subplots(4, 4)\n",
    "vmin, vmax = mlp_large.coefs_[0].min(), mlp_large.coefs_[0].max()\n",
    "for coef, ax in zip(mlp.coefs_[0].T, axes.ravel()):\n",
    "    ax.matshow(coef.reshape(28, 28), cmap=plt.cm.gray, vmin=.5 * vmin,\n",
    "               vmax=.5 * vmax)\n",
    "    ax.set_xticks(())\n",
    "    ax.set_yticks(())\n",
    "plt.show()"
   ]
  },
  {
   "cell_type": "markdown",
   "metadata": {},
   "source": [
    "## QUESTION 5\n",
    "\n",
    "Describe what do you observe by looking at the weights.\n",
    "\n",
    "In some cases, it is difficult to see something other than noise while in a few plots it is possible to identify the shape of a shirt or dress. "
   ]
  },
  {
   "cell_type": "markdown",
   "metadata": {},
   "source": [
    "##### [ANSWER TO QUESTION 5]"
   ]
  },
  {
   "cell_type": "markdown",
   "metadata": {},
   "source": [
    "### TO DO 9\n",
    "\n",
    "Take the best SVM model and its parameters, you found in the last notebook. Fit it on a few data points and compute its training and test scores. Then fit also a logistic regression model with C=1. "
   ]
  },
  {
   "cell_type": "code",
   "execution_count": 18,
   "metadata": {},
   "outputs": [
    {
     "name": "stdout",
     "output_type": "stream",
     "text": [
      "RESULTS FOR SVM\n",
      "Training error SVM:\n",
      "0.06474999999999997\n",
      "Test error SVM:\n",
      "0.13949999999999996\n"
     ]
    }
   ],
   "source": [
    "m_training = 4000\n",
    "\n",
    "# to use same train and test set\n",
    "X_train, X_test = X[m_training:2*m_training], X[:m_training]\n",
    "y_train, y_test = y[m_training:2*m_training], y[:m_training]\n",
    "\n",
    "# use best parameters found in the SVM notebook, create SVM and perform fitting\n",
    "\n",
    "#ADD YOUR CODE\n",
    "SVM = SVC(kernel='rbf', C=5, gamma=0.005, break_ties=True) \n",
    "SVM.fit(X_train,y_train)\n",
    "print ('RESULTS FOR SVM')\n",
    "\n",
    "SVM_training_error =  1-SVM.score(X_train,y_train)#ADD YOUR CODE\n",
    "\n",
    "print(\"Training error SVM:\")\n",
    "print(SVM_training_error)\n",
    "\n",
    "SVM_test_error = 1-SVM.score(X_test,y_test)\n",
    "print(\"Test error SVM:\")\n",
    "print(SVM_test_error)"
   ]
  },
  {
   "cell_type": "code",
   "execution_count": 19,
   "metadata": {},
   "outputs": [
    {
     "name": "stdout",
     "output_type": "stream",
     "text": [
      "\n",
      "RESULTS FOR LOGISTIC REGRESSION WITH REGULARIZATION\n",
      "Training error (reg): 0.057250\n",
      "Test error (reg): 0.172500\n"
     ]
    }
   ],
   "source": [
    "from sklearn import linear_model\n",
    "\n",
    "regL2 = linear_model.LogisticRegression(C=1, max_iter=100, n_jobs=-1)\n",
    "regL2.fit(X_train,y_train)\n",
    "# you can re-use your code from Lab 2\n",
    "\n",
    "#ADD YOUR CODE\n",
    "\n",
    "print ('\\nRESULTS FOR LOGISTIC REGRESSION WITH REGULARIZATION')\n",
    "\n",
    "training_error = 1-regL2.score(X_train,y_train)\n",
    "test_error = 1-regL2.score(X_test,y_test)\n",
    "\n",
    "print (\"Training error (reg): %f\" % training_error)\n",
    "print (\"Test error (reg): %f\" % test_error)"
   ]
  },
  {
   "cell_type": "markdown",
   "metadata": {
    "collapsed": true
   },
   "source": [
    "## QUESTION 6\n",
    "Compare the results of Logistic Regression, SVM and NN. Which one achieve the best results? "
   ]
  },
  {
   "cell_type": "markdown",
   "metadata": {},
   "source": [
    "###### [ANSWER TO QUESTION 6]\n",
    "\n",
    "The best result is achieved by the SVM, then NN while LR is last.\n",
    "Trying with different seeds the result is always the same: SVM > NN > LR.\n",
    "\n",
    "A couple of considerations on NN performance:\n",
    "\n",
    "1) in the first part when selecting the best NN architecture a more numerous training sample should be used: the results are very sensitive to the random selection of the training sample and a larger one should help in this regard.\n",
    "\n",
    "2) the model we are implementing is very simple and we are not using any advanced technique for optimization, model architecture, etc. As seen in the keras tutorial a CNN is better suited for tackling this kind of classification problem."
   ]
  }
 ],
 "metadata": {
  "kernelspec": {
   "display_name": "Python 3",
   "language": "python",
   "name": "python3"
  },
  "language_info": {
   "codemirror_mode": {
    "name": "ipython",
    "version": 3
   },
   "file_extension": ".py",
   "mimetype": "text/x-python",
   "name": "python",
   "nbconvert_exporter": "python",
   "pygments_lexer": "ipython3",
   "version": "3.8.5"
  }
 },
 "nbformat": 4,
 "nbformat_minor": 2
}
